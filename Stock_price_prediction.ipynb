{
 "cells": [
  {
   "cell_type": "code",
   "execution_count": 1,
   "id": "d5a7257b-a4d3-4aeb-a56d-0e00e79002d2",
   "metadata": {},
   "outputs": [],
   "source": [
    "#Stock Price Predictor"
   ]
  },
  {
   "cell_type": "code",
   "execution_count": 2,
   "id": "a97a6dee-37d4-41b0-8526-387f2b4e1bba",
   "metadata": {},
   "outputs": [],
   "source": [
    "import numpy as np\n",
    "import pandas as pd\n",
    "import matplotlib.pyplot as plt\n",
    "from sklearn.model_selection import train_test_split\n",
    "from sklearn.preprocessing import MinMaxScaler\n",
    "from sklearn.linear_model import LinearRegression\n",
    "from sklearn.metrics import mean_squared_error, r2_score\n",
    "import yfinance as yf\n",
    "from pandas.tseries.offsets import BDay\n",
    "import pickle\n"
   ]
  },
  {
   "cell_type": "code",
   "execution_count": 3,
   "id": "9785a08c-2619-47f0-8bcf-5df1993f0a9f",
   "metadata": {},
   "outputs": [],
   "source": [
    "# Step 1: Data Collection"
   ]
  },
  {
   "cell_type": "code",
   "execution_count": 4,
   "id": "6e179ced-002f-4842-a69b-b6f44f0d0447",
   "metadata": {},
   "outputs": [
    {
     "name": "stderr",
     "output_type": "stream",
     "text": [
      "[*********************100%***********************]  1 of 1 completed\n"
     ]
    }
   ],
   "source": [
    "ticker = 'TSLA'  # Change this ticker symbol to predict other stocks\n",
    "data = yf.download(ticker, start='2023-04-01', end='2024-01-01')\n"
   ]
  },
  {
   "cell_type": "code",
   "execution_count": 5,
   "id": "0bba5a7b-c894-4857-8cc2-bfc4b577d2b8",
   "metadata": {},
   "outputs": [],
   "source": [
    "# Step 2: Data Preprocessing"
   ]
  },
  {
   "cell_type": "code",
   "execution_count": 6,
   "id": "20f31a1a-b0ea-4ca2-a668-6af1e1cfee8d",
   "metadata": {},
   "outputs": [],
   "source": [
    "data.ffill(inplace=True)  # Fill missing values with forward fill\n",
    "data['MA20'] = data['Close'].rolling(window=20).mean()\n",
    "data['MA50'] = data['Close'].rolling(window=50).mean()\n",
    "data.dropna(inplace=True)"
   ]
  },
  {
   "cell_type": "code",
   "execution_count": 7,
   "id": "6a79f20d-a760-4630-b2b2-7bbcd90e1e87",
   "metadata": {},
   "outputs": [],
   "source": [
    "# Step 3: Feature Selection"
   ]
  },
  {
   "cell_type": "code",
   "execution_count": 8,
   "id": "cc73b884-d94b-4484-9cbc-d68af9ceb59b",
   "metadata": {},
   "outputs": [],
   "source": [
    "X = data[['Close', 'MA20', 'MA50']]\n",
    "y = data['Close'].shift(-1)  # Predicting next day's closing price\n",
    "X = X[:-1]  # Drop the last row to align with shifted target\n",
    "y = y[:-1]"
   ]
  },
  {
   "cell_type": "code",
   "execution_count": 9,
   "id": "660ba597-7ea4-4bcb-92d1-4bc17d1e3afb",
   "metadata": {},
   "outputs": [],
   "source": [
    "# Step 4: Data Splitting and Scaling"
   ]
  },
  {
   "cell_type": "code",
   "execution_count": 10,
   "id": "f694d2df-4520-4ebe-b167-9a0a097e9ef6",
   "metadata": {},
   "outputs": [],
   "source": [
    "X_train, X_test, y_train, y_test = train_test_split(X, y, test_size=0.2, shuffle=False)\n",
    "scaler = MinMaxScaler()\n",
    "X_train_scaled = scaler.fit_transform(X_train)\n",
    "X_test_scaled = scaler.transform(X_test)"
   ]
  },
  {
   "cell_type": "code",
   "execution_count": 11,
   "id": "17a29aa8-cece-4d03-b0cf-e73c45ede6b1",
   "metadata": {},
   "outputs": [],
   "source": [
    "# Step 5: Model Selection and Training"
   ]
  },
  {
   "cell_type": "code",
   "execution_count": 12,
   "id": "bd88e388-c878-422c-83ea-0f8b6bcc9d3a",
   "metadata": {},
   "outputs": [
    {
     "data": {
      "text/html": [
       "<style>#sk-container-id-1 {color: black;background-color: white;}#sk-container-id-1 pre{padding: 0;}#sk-container-id-1 div.sk-toggleable {background-color: white;}#sk-container-id-1 label.sk-toggleable__label {cursor: pointer;display: block;width: 100%;margin-bottom: 0;padding: 0.3em;box-sizing: border-box;text-align: center;}#sk-container-id-1 label.sk-toggleable__label-arrow:before {content: \"▸\";float: left;margin-right: 0.25em;color: #696969;}#sk-container-id-1 label.sk-toggleable__label-arrow:hover:before {color: black;}#sk-container-id-1 div.sk-estimator:hover label.sk-toggleable__label-arrow:before {color: black;}#sk-container-id-1 div.sk-toggleable__content {max-height: 0;max-width: 0;overflow: hidden;text-align: left;background-color: #f0f8ff;}#sk-container-id-1 div.sk-toggleable__content pre {margin: 0.2em;color: black;border-radius: 0.25em;background-color: #f0f8ff;}#sk-container-id-1 input.sk-toggleable__control:checked~div.sk-toggleable__content {max-height: 200px;max-width: 100%;overflow: auto;}#sk-container-id-1 input.sk-toggleable__control:checked~label.sk-toggleable__label-arrow:before {content: \"▾\";}#sk-container-id-1 div.sk-estimator input.sk-toggleable__control:checked~label.sk-toggleable__label {background-color: #d4ebff;}#sk-container-id-1 div.sk-label input.sk-toggleable__control:checked~label.sk-toggleable__label {background-color: #d4ebff;}#sk-container-id-1 input.sk-hidden--visually {border: 0;clip: rect(1px 1px 1px 1px);clip: rect(1px, 1px, 1px, 1px);height: 1px;margin: -1px;overflow: hidden;padding: 0;position: absolute;width: 1px;}#sk-container-id-1 div.sk-estimator {font-family: monospace;background-color: #f0f8ff;border: 1px dotted black;border-radius: 0.25em;box-sizing: border-box;margin-bottom: 0.5em;}#sk-container-id-1 div.sk-estimator:hover {background-color: #d4ebff;}#sk-container-id-1 div.sk-parallel-item::after {content: \"\";width: 100%;border-bottom: 1px solid gray;flex-grow: 1;}#sk-container-id-1 div.sk-label:hover label.sk-toggleable__label {background-color: #d4ebff;}#sk-container-id-1 div.sk-serial::before {content: \"\";position: absolute;border-left: 1px solid gray;box-sizing: border-box;top: 0;bottom: 0;left: 50%;z-index: 0;}#sk-container-id-1 div.sk-serial {display: flex;flex-direction: column;align-items: center;background-color: white;padding-right: 0.2em;padding-left: 0.2em;position: relative;}#sk-container-id-1 div.sk-item {position: relative;z-index: 1;}#sk-container-id-1 div.sk-parallel {display: flex;align-items: stretch;justify-content: center;background-color: white;position: relative;}#sk-container-id-1 div.sk-item::before, #sk-container-id-1 div.sk-parallel-item::before {content: \"\";position: absolute;border-left: 1px solid gray;box-sizing: border-box;top: 0;bottom: 0;left: 50%;z-index: -1;}#sk-container-id-1 div.sk-parallel-item {display: flex;flex-direction: column;z-index: 1;position: relative;background-color: white;}#sk-container-id-1 div.sk-parallel-item:first-child::after {align-self: flex-end;width: 50%;}#sk-container-id-1 div.sk-parallel-item:last-child::after {align-self: flex-start;width: 50%;}#sk-container-id-1 div.sk-parallel-item:only-child::after {width: 0;}#sk-container-id-1 div.sk-dashed-wrapped {border: 1px dashed gray;margin: 0 0.4em 0.5em 0.4em;box-sizing: border-box;padding-bottom: 0.4em;background-color: white;}#sk-container-id-1 div.sk-label label {font-family: monospace;font-weight: bold;display: inline-block;line-height: 1.2em;}#sk-container-id-1 div.sk-label-container {text-align: center;}#sk-container-id-1 div.sk-container {/* jupyter's `normalize.less` sets `[hidden] { display: none; }` but bootstrap.min.css set `[hidden] { display: none !important; }` so we also need the `!important` here to be able to override the default hidden behavior on the sphinx rendered scikit-learn.org. See: https://github.com/scikit-learn/scikit-learn/issues/21755 */display: inline-block !important;position: relative;}#sk-container-id-1 div.sk-text-repr-fallback {display: none;}</style><div id=\"sk-container-id-1\" class=\"sk-top-container\"><div class=\"sk-text-repr-fallback\"><pre>LinearRegression()</pre><b>In a Jupyter environment, please rerun this cell to show the HTML representation or trust the notebook. <br />On GitHub, the HTML representation is unable to render, please try loading this page with nbviewer.org.</b></div><div class=\"sk-container\" hidden><div class=\"sk-item\"><div class=\"sk-estimator sk-toggleable\"><input class=\"sk-toggleable__control sk-hidden--visually\" id=\"sk-estimator-id-1\" type=\"checkbox\" checked><label for=\"sk-estimator-id-1\" class=\"sk-toggleable__label sk-toggleable__label-arrow\">LinearRegression</label><div class=\"sk-toggleable__content\"><pre>LinearRegression()</pre></div></div></div></div></div>"
      ],
      "text/plain": [
       "LinearRegression()"
      ]
     },
     "execution_count": 12,
     "metadata": {},
     "output_type": "execute_result"
    }
   ],
   "source": [
    "model = LinearRegression()\n",
    "model.fit(X_train_scaled, y_train)"
   ]
  },
  {
   "cell_type": "code",
   "execution_count": 13,
   "id": "d16298de-5596-4375-a2a2-311ecd8f5f0c",
   "metadata": {},
   "outputs": [],
   "source": [
    "# Step 6: Model Evaluation"
   ]
  },
  {
   "cell_type": "code",
   "execution_count": 14,
   "id": "979d30cd-54f0-40bf-ac27-9e82cf10fcc2",
   "metadata": {},
   "outputs": [
    {
     "name": "stdout",
     "output_type": "stream",
     "text": [
      "Mean Squared Error: 24.437945706843752\n",
      "R-squared: 0.5952155165507784\n"
     ]
    }
   ],
   "source": [
    "y_pred = model.predict(X_test_scaled)\n",
    "mse = mean_squared_error(y_test, y_pred)\n",
    "r2 = r2_score(y_test, y_pred)\n",
    "print(f'Mean Squared Error: {mse}')\n",
    "print(f'R-squared: {r2}')"
   ]
  },
  {
   "cell_type": "code",
   "execution_count": 15,
   "id": "8bbe0a9f-073f-4294-84eb-16e24b87c829",
   "metadata": {},
   "outputs": [],
   "source": [
    "# Step 7: Predict Future Stock Prices"
   ]
  },
  {
   "cell_type": "code",
   "execution_count": 16,
   "id": "f645b2f8-88a4-4e73-b2a2-d71deeddcadb",
   "metadata": {},
   "outputs": [],
   "source": [
    "future_days = 30  # Number of days to predict into the future\n",
    "last_date = data.index[-1]\n",
    "future_dates = pd.date_range(start=last_date + BDay(1), periods=future_days, freq=BDay())\n",
    "future_data = pd.DataFrame(index=future_dates, columns=data.columns)"
   ]
  },
  {
   "cell_type": "code",
   "execution_count": 17,
   "id": "af1673ef-6ac2-4877-9b69-16aa9ff8cd95",
   "metadata": {},
   "outputs": [],
   "source": [
    "# Exclude empty columns before concatenation"
   ]
  },
  {
   "cell_type": "code",
   "execution_count": 18,
   "id": "305f893c-266a-4b04-bc46-1a0bedf7506b",
   "metadata": {},
   "outputs": [],
   "source": [
    "future_data = future_data.dropna(axis=1, how='all')"
   ]
  },
  {
   "cell_type": "code",
   "execution_count": 19,
   "id": "61a7fd08-2e14-4538-9b92-bad7ac14dda1",
   "metadata": {},
   "outputs": [],
   "source": [
    "# Concatenate the original data with future dates"
   ]
  },
  {
   "cell_type": "code",
   "execution_count": 20,
   "id": "0b68c6df-95e8-4c26-bbfe-6ac6a79d5757",
   "metadata": {},
   "outputs": [],
   "source": [
    "data = pd.concat([data, future_data])"
   ]
  },
  {
   "cell_type": "code",
   "execution_count": 21,
   "id": "6420cb54-1aee-45d8-9592-6a76e25f4e5f",
   "metadata": {},
   "outputs": [],
   "source": [
    "# Recalculate moving averages with future dates"
   ]
  },
  {
   "cell_type": "code",
   "execution_count": 22,
   "id": "e25c492c-2335-46db-84fc-993b1386815a",
   "metadata": {},
   "outputs": [],
   "source": [
    "data['MA20'] = data['Close'].rolling(window=20).mean()\n",
    "data['MA50'] = data['Close'].rolling(window=50).mean()"
   ]
  },
  {
   "cell_type": "code",
   "execution_count": 23,
   "id": "e9e390df-24c7-442a-94b2-5b3a83f842a6",
   "metadata": {},
   "outputs": [],
   "source": [
    "# Fill forward/backward to handle any NaNs"
   ]
  },
  {
   "cell_type": "code",
   "execution_count": 24,
   "id": "4c61177d-6aa9-4ffe-a34d-d69706df8425",
   "metadata": {},
   "outputs": [],
   "source": [
    "data['Close'].ffill(inplace=True)\n",
    "data['MA20'].ffill(inplace=True)\n",
    "data['MA50'].ffill(inplace=True)"
   ]
  },
  {
   "cell_type": "code",
   "execution_count": 25,
   "id": "3324ae25-4ba9-4fda-bb13-71af7b228a83",
   "metadata": {},
   "outputs": [],
   "source": [
    "# Ensure no NaN values in X_future before prediction"
   ]
  },
  {
   "cell_type": "code",
   "execution_count": 26,
   "id": "05a3e1e2-ea5e-4fe5-b430-0d1076a1812f",
   "metadata": {},
   "outputs": [],
   "source": [
    "X_future = data[['Close', 'MA20', 'MA50']].tail(future_days)\n",
    "X_future.dropna(inplace=True)  # Drop rows if any NaNs still exist\n",
    "X_future_scaled = scaler.transform(X_future)\n",
    "future_predictions = model.predict(X_future_scaled)"
   ]
  },
  {
   "cell_type": "code",
   "execution_count": 27,
   "id": "94e35964-6359-4a85-a624-fc0fa02d709b",
   "metadata": {},
   "outputs": [],
   "source": [
    "# Combine historical and predicted future prices for visualization"
   ]
  },
  {
   "cell_type": "code",
   "execution_count": 28,
   "id": "dd6939d4-9be8-4aea-a184-c8937c8411c2",
   "metadata": {},
   "outputs": [],
   "source": [
    "data.loc[X_future.index, 'Predicted'] = future_predictions"
   ]
  },
  {
   "cell_type": "code",
   "execution_count": 29,
   "id": "c6c6a844-1b15-42ea-abbc-5f1191933533",
   "metadata": {},
   "outputs": [],
   "source": [
    "# Step 8: Visualization"
   ]
  },
  {
   "cell_type": "code",
   "execution_count": 30,
   "id": "e8965443-00e3-45b4-9df3-5a02118fa79f",
   "metadata": {},
   "outputs": [
    {
     "data": {
      "image/png": "[encoded data removed]",
      "text/plain": [
       "<Figure size 1400x700 with 1 Axes>"
      ]
     },
     "metadata": {},
     "output_type": "display_data"
    }
   ],
   "source": [
    "plt.figure(figsize=(14,7))\n",
    "plt.plot(data.index, data['Close'], color='blue', label='Historical Prices')\n",
    "plt.plot(data.index, data['Predicted'], color='red', linestyle='--', label='Predicted Future Prices')\n",
    "plt.title(f'{ticker} Stock Price Prediction')\n",
    "plt.xlabel('Date')\n",
    "plt.ylabel('Stock Price')\n",
    "plt.legend()\n",
    "plt.show()"
   ]
  },
  {
   "cell_type": "code",
   "execution_count": 31,
   "id": "48b9cdf7-f724-4ce7-800a-4833787240c1",
   "metadata": {},
   "outputs": [],
   "source": [
    "# Step 9: Save the Model"
   ]
  },
  {
   "cell_type": "code",
   "execution_count": 32,
   "id": "238cbc7b-c71f-4677-b2c7-e2ca00e64d87",
   "metadata": {},
   "outputs": [],
   "source": [
    "with open('linear_regression_model.pkl', 'wb') as file:\n",
    "    pickle.dump(model, file)"
   ]
  }
 ],
 "metadata": {
  "kernelspec": {
   "display_name": "Python 3 (ipykernel)",
   "language": "python",
   "name": "python3"
  },
  "language_info": {
   "codemirror_mode": {
    "name": "ipython",
    "version": 3
   },
   "file_extension": ".py",
   "mimetype": "text/x-python",
   "name": "python",
   "nbconvert_exporter": "python",
   "pygments_lexer": "ipython3",
   "version": "3.11.7"
  }
 },
 "nbformat": 4,
 "nbformat_minor": 5
}
